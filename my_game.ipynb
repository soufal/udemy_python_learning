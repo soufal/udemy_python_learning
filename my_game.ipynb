{
 "cells": [
  {
   "cell_type": "code",
   "execution_count": 1,
   "metadata": {},
   "outputs": [],
   "source": [
    "from IPython.display import clear_output\n",
    "\n",
    "def display_board(board):\n",
    "    clear_output()\n",
    "    print(board[1] + ' | ' + board[2] + ' | '+board[3] + '\\n' +\n",
    "          '---------'+'\\n'+\n",
    "         board[4] +' | ' +board[5] +' | '+ board[6] +'\\n'+\n",
    "          '---------'+'\\n'+\n",
    "         board[7] + ' | ' +board[8] +' | '+ board[9])"
   ]
  },
  {
   "cell_type": "code",
   "execution_count": 2,
   "metadata": {},
   "outputs": [],
   "source": [
    "def player_input():\n",
    "    marker = ''\n",
    "    \n",
    "    while (marker!= \"O\") and (marker!= \"X\"):\n",
    "        marker = input(\"Please pick a marker 'X' or 'O': \")\n",
    "    \n",
    "    player1 = marker\n",
    "    \n",
    "    if player1 == 'X':\n",
    "        player2 = 'O'\n",
    "    else:\n",
    "        player2 = 'X'\n",
    "        \n",
    "    return (player1, player2)"
   ]
  },
  {
   "cell_type": "code",
   "execution_count": 3,
   "metadata": {},
   "outputs": [],
   "source": [
    "def place_marker(board, marker, position):\n",
    "    board[position] = marker"
   ]
  },
  {
   "cell_type": "code",
   "execution_count": 4,
   "metadata": {},
   "outputs": [],
   "source": [
    "def win_check(board, mark):\n",
    "    mark_index = ''\n",
    "    won_mark = ['123','456','789','147','258','369','159','357']\n",
    "    for i in range(len(board)):\n",
    "        if board[i] == mark:\n",
    "            mark_index += str(i)\n",
    "   # print(mark_index)\n",
    "    if len(mark_index) < 3:\n",
    "      #  print(\"You are not Win!\")\n",
    "        return False\n",
    "    else:\n",
    "        for i in won_mark:\n",
    "            if i in mark_index:\n",
    "            #    print(\"You are Win!\")\n",
    "                return True\n",
    "                break\n",
    "            else:\n",
    "                continue"
   ]
  },
  {
   "cell_type": "code",
   "execution_count": 5,
   "metadata": {},
   "outputs": [],
   "source": [
    "import random\n",
    "\n",
    "def choose_first():\n",
    "    first={1:'X',2:'O'}\n",
    "    print(' The ' + first[random.randint(1,2)] + ' first!')\n",
    "    return first[random.randint(1,2)]"
   ]
  },
  {
   "cell_type": "code",
   "execution_count": 6,
   "metadata": {},
   "outputs": [],
   "source": [
    "def space_check(board, position):\n",
    "    return board[position] == ' '"
   ]
  },
  {
   "cell_type": "code",
   "execution_count": 7,
   "metadata": {},
   "outputs": [],
   "source": [
    "def full_board_check(board):\n",
    "    return board.count('X') + board.count('O') == 9"
   ]
  },
  {
   "cell_type": "code",
   "execution_count": 11,
   "metadata": {},
   "outputs": [],
   "source": [
    "def player_choice(board):\n",
    "    player_position = int(input(\"Which is your next position? \"))\n",
    "    while not space_check(board, player_position):\n",
    "        print(\"The position is not free or not alpha!Please choose another one!\")\n",
    "        player_position = int(input(\"Which is your next position? \"))\n",
    "    return player_position"
   ]
  },
  {
   "cell_type": "code",
   "execution_count": 9,
   "metadata": {},
   "outputs": [],
   "source": [
    "def replay():\n",
    "    if input(\"Do you want to play angin? \")=='yes':\n",
    "        print(\"Game Again!\")\n",
    "        return True\n",
    "    else:\n",
    "        print(\"Bye!\")\n",
    "        return False"
   ]
  },
  {
   "cell_type": "code",
   "execution_count": null,
   "metadata": {},
   "outputs": [
    {
     "name": "stdout",
     "output_type": "stream",
     "text": [
      "  |   |  \n",
      "---------\n",
      "  |   |  \n",
      "---------\n",
      "  |   |  \n",
      "The player choose the marker!\n"
     ]
    }
   ],
   "source": [
    "game_set = True\n",
    "while game_set:\n",
    "    print('Welcome to Tic Tac Toe!')\n",
    "\n",
    "    board = ['#',' ',' ',' ',' ',' ',' ',' ',' ',' ']\n",
    "    #while True:\n",
    "        # Set the game up here\n",
    "        #pass\n",
    "\n",
    "    display_board(board)\n",
    "    print(\"The player choose the marker!\")\n",
    "    player1_marker,player2_marker = player_input()\n",
    "    marker = choose_first()\n",
    "    if player1_marker != marker:\n",
    "        player1_marker, player2_marker = player2_marker, player1_marker\n",
    "\n",
    "    print(\"The player1'marker is {}\".format(player1_marker)) \n",
    "    print(\"The player2'marker is {}\".format(player2_marker))\n",
    "    print(\"The first step is {}\".format(marker)) \n",
    "    temp = True\n",
    "    while temp:\n",
    "        #Player 1 Turn\n",
    "        display_board(board)\n",
    "        print(\"It's Player1 Turn!\")\n",
    "        position1=player_choice(board)\n",
    "        place_marker(board, player1_marker, position1)\n",
    "        display_board(board)\n",
    "        if win_check(board, player1_marker): \n",
    "            print(\"The player1 is win!\")\n",
    "\n",
    "            break\n",
    "        elif full_board_check(board):\n",
    "            print(\"The board is full!No one win!\")\n",
    "\n",
    "            break\n",
    "        # Player2's turn.\n",
    "        display_board(board)\n",
    "        print(\"It's Player2 Turn!\")\n",
    "        position2=player_choice(board)\n",
    "        place_marker(board, player2_marker, position2)\n",
    "        display_board(board)\n",
    "        if win_check(board, player2_marker):\n",
    "            print(\"The player2 is win!\")\n",
    "\n",
    "            break\n",
    "        elif full_board_check(board):\n",
    "            print(\"The board is full!No one win!\")\n",
    "\n",
    "            break\n",
    "    if not replay():\n",
    "        game_set = False"
   ]
  },
  {
   "cell_type": "code",
   "execution_count": null,
   "metadata": {},
   "outputs": [],
   "source": []
  }
 ],
 "metadata": {
  "kernelspec": {
   "display_name": "Python 3",
   "language": "python",
   "name": "python3"
  },
  "language_info": {
   "codemirror_mode": {
    "name": "ipython",
    "version": 3
   },
   "file_extension": ".py",
   "mimetype": "text/x-python",
   "name": "python",
   "nbconvert_exporter": "python",
   "pygments_lexer": "ipython3",
   "version": "3.5.4"
  }
 },
 "nbformat": 4,
 "nbformat_minor": 2
}
